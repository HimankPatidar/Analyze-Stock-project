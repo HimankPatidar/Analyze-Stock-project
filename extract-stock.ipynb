{
 "cells": [
  {
   "cell_type": "markdown",
   "id": "9f1d2347",
   "metadata": {
    "papermill": {
     "duration": 0.002945,
     "end_time": "2024-11-15T01:08:26.410254",
     "exception": false,
     "start_time": "2024-11-15T01:08:26.407309",
     "status": "completed"
    },
    "tags": []
   },
   "source": [
    "<center>    <img src=\"https://cf-courses-data.s3.us.cloud-object-storage.appdomain.cloud/IBMDeveloperSkillsNetwork-PY0220EN-SkillsNetwork/labs/project/Images/SN_logo.png\" width=\"300\" alt=\"cognitiveclass.ai logo\"></center>"
   ]
  },
  {
   "cell_type": "markdown",
   "id": "33fa03bf",
   "metadata": {
    "papermill": {
     "duration": 0.002221,
     "end_time": "2024-11-15T01:08:26.415328",
     "exception": false,
     "start_time": "2024-11-15T01:08:26.413107",
     "status": "completed"
    },
    "tags": []
   },
   "source": [
    "<h2>About the Authors:</h2> <a href=\"https://www.linkedin.com/in/joseph-s-50398b136/\">Joseph Santarcangelo</a> has a PhD in Electrical Engineering, his research focused on using machine learning, signal processing, and computer vision to determine how videos impact human cognition. Joseph has been working for IBM since he completed his PhD.Azim Hirjani"
   ]
  },
  {
   "cell_type": "markdown",
   "id": "55139eb2",
   "metadata": {
    "papermill": {
     "duration": 0.00215,
     "end_time": "2024-11-15T01:08:26.419981",
     "exception": false,
     "start_time": "2024-11-15T01:08:26.417831",
     "status": "completed"
    },
    "tags": []
   },
   "source": [
    "## <h3 align=\"center\"> © IBM Corporation 2020. All rights reserved. <h3/>"
   ]
  },
  {
   "cell_type": "markdown",
   "id": "d31bb103",
   "metadata": {
    "papermill": {
     "duration": 0.001985,
     "end_time": "2024-11-15T01:08:26.424400",
     "exception": false,
     "start_time": "2024-11-15T01:08:26.422415",
     "status": "completed"
    },
    "tags": []
   },
   "source": [
    "<!--## Change Log| Date (YYYY-MM-DD) | Version | Changed By    | Change Description        || ----------------- | ------- | ------------- | ------------------------- || 2020-11-10        | 1.1     | Malika Singla | Deleted the Optional part || 2020-08-27        | 1.0     | Malika Singla | Added lab to GitLab       |<hr><p>--!>"
   ]
  }
 ],
 "metadata": {
  "kaggle": {
   "accelerator": "none",
   "dataSources": [],
   "dockerImageVersionId": 30786,
   "isGpuEnabled": false,
   "isInternetEnabled": true,
   "language": "python",
   "sourceType": "notebook"
  },
  "kernelspec": {
   "display_name": "Python 3",
   "language": "python",
   "name": "python3"
  },
  "language_info": {
   "codemirror_mode": {
    "name": "ipython",
    "version": 3
   },
   "file_extension": ".py",
   "mimetype": "text/x-python",
   "name": "python",
   "nbconvert_exporter": "python",
   "pygments_lexer": "ipython3",
   "version": "3.10.14"
  },
  "papermill": {
   "default_parameters": {},
   "duration": 6.556105,
   "end_time": "2024-11-15T01:08:29.492824",
   "environment_variables": {},
   "exception": null,
   "input_path": "__notebook__.ipynb",
   "output_path": "__notebook__.ipynb",
   "parameters": {},
   "start_time": "2024-11-15T01:08:22.936719",
   "version": "2.6.0"
  },
  "prev_pub_hash": "660ea41267af378af1b87f015ad0e76833cde9ca552964b4ed464ff4a8f5a6f7"
 },
 "nbformat": 4,
 "nbformat_minor": 5
}
